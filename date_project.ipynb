{
  "nbformat": 4,
  "nbformat_minor": 0,
  "metadata": {
    "colab": {
      "provenance": []
    },
    "kernelspec": {
      "name": "python3",
      "display_name": "Python 3"
    },
    "language_info": {
      "name": "python"
    }
  },
  "cells": [
    {
      "cell_type": "code",
      "execution_count": 4,
      "metadata": {
        "colab": {
          "base_uri": "https://localhost:8080/"
        },
        "id": "WlRN1opBchAx",
        "outputId": "d89c94d7-6dca-4b03-eb45-4609e776e8cf"
      },
      "outputs": [
        {
          "output_type": "stream",
          "name": "stdout",
          "text": [
            "물건 구매가 입력 : 20000\n",
            "20000\n"
          ]
        }
      ],
      "source": [
        "n = int(input(\"물건 구매가 입력 : \"))\n",
        "if n >= 100000:\n",
        "  num = 10\n",
        "elif n >= 50000:\n",
        "  num = 7.5\n",
        "elif n>= 10000:\n",
        "  num = 5\n",
        "else:\n",
        "  num = 0\n",
        "\n",
        "print(f'할인률 : {num}%')\n",
        "print(f'할인금액 : {int(price * num * 0.01)}')\n",
        "print(f'{}')"
      ]
    },
    {
      "cell_type": "code",
      "source": [
        "y = int(input('나이:'))\n",
        "price = 3000\n",
        "\n",
        "if y >= 65 and y <= 7:\n",
        "  price = 0\n",
        "elif y >= 8 or y <= 18:\n",
        "  price = 1000\n",
        "\n",
        "print(f'{price}입니다')"
      ],
      "metadata": {
        "colab": {
          "base_uri": "https://localhost:8080/"
        },
        "id": "-Gb0IeP-gse8",
        "outputId": "2d9114ed-2e16-4baa-b49d-b88804ad62f4"
      },
      "execution_count": 8,
      "outputs": [
        {
          "output_type": "stream",
          "name": "stdout",
          "text": [
            "나이:8\n",
            "1000입니다\n"
          ]
        }
      ]
    },
    {
      "cell_type": "code",
      "source": [
        "n1 = int(input('몇개의 숫자를 더할까요?'))\n",
        "sum = 0\n",
        "\n",
        "for i in range(n1):\n",
        "  num = int(input('정수 : '))\n",
        "  if num%2 == 0:\n",
        "    sum += num\n",
        "\n",
        "print('합계출력',sum)"
      ],
      "metadata": {
        "colab": {
          "base_uri": "https://localhost:8080/"
        },
        "id": "HNjhTbWziA-Z",
        "outputId": "1817317b-2cae-4b53-bc94-e8841b9579de"
      },
      "execution_count": 11,
      "outputs": [
        {
          "output_type": "stream",
          "name": "stdout",
          "text": [
            "몇개의 숫자를 더할까요?3\n",
            "정수 : 3\n",
            "정수 : 3\n",
            "정수 : 3\n",
            "합계출력 0\n"
          ]
        }
      ]
    },
    {
      "cell_type": "code",
      "source": [
        "n = int(input('몇 팩? '))\n",
        "s = 1\n",
        "for i in range(n,0,-1):\n",
        "  s *= i\n",
        "\n",
        "print(s)"
      ],
      "metadata": {
        "colab": {
          "base_uri": "https://localhost:8080/"
        },
        "id": "JSD00NrKjvz6",
        "outputId": "a9a5f0cd-00f6-40a4-c994-cd56f9b482ad"
      },
      "execution_count": 18,
      "outputs": [
        {
          "output_type": "stream",
          "name": "stdout",
          "text": [
            "몇 팩? 5\n",
            "120\n"
          ]
        }
      ]
    },
    {
      "cell_type": "code",
      "source": [
        "import random\n",
        "n = random.randint(1,100)\n",
        "# print(n)\n",
        "\n",
        "while True:\n",
        "    ans = int(input('숫자 입력 :'))\n",
        "    if ans == n:\n",
        "        print('정답')\n",
        "        break\n",
        "    elif ans > n:\n",
        "        print('down')\n",
        "    else:\n",
        "        print('up')"
      ],
      "metadata": {
        "colab": {
          "base_uri": "https://localhost:8080/"
        },
        "id": "XUgY4yXkk8ST",
        "outputId": "1e3f3b0a-e810-4a32-fbe5-9cf0c47c9c95"
      },
      "execution_count": 20,
      "outputs": [
        {
          "output_type": "stream",
          "name": "stdout",
          "text": [
            "숫자를 입력하세요 :50\n",
            "up\n",
            "숫자를 입력하세요 :60\n",
            "up\n",
            "숫자를 입력하세요 :80\n",
            "up\n",
            "숫자를 입력하세요 :90\n",
            "down\n",
            "숫자를 입력하세요 :85\n",
            "down\n",
            "숫자를 입력하세요 :84\n",
            "down\n",
            "숫자를 입력하세요 :83\n",
            "down\n",
            "숫자를 입력하세요 :81\n",
            "up\n",
            "숫자를 입력하세요 :82\n",
            "T\n"
          ]
        }
      ]
    },
    {
      "cell_type": "code",
      "source": [
        "n = int(input('몇 단? : '))\n",
        "\n",
        "\n",
        "for j in range(1,10):\n",
        "  print(f'{n} x {j} = {n*j}')"
      ],
      "metadata": {
        "colab": {
          "base_uri": "https://localhost:8080/"
        },
        "id": "xaq_qoNLmN4R",
        "outputId": "91640f56-098f-456b-a06f-b9c07408b7bf"
      },
      "execution_count": 26,
      "outputs": [
        {
          "output_type": "stream",
          "name": "stdout",
          "text": [
            "몇 단? :5\n",
            "5 x 1 = 5\n",
            "5 x 2 = 10\n",
            "5 x 3 = 15\n",
            "5 x 4 = 20\n",
            "5 x 5 = 25\n",
            "5 x 6 = 30\n",
            "5 x 7 = 35\n",
            "5 x 8 = 40\n",
            "5 x 9 = 45\n"
          ]
        }
      ]
    },
    {
      "cell_type": "code",
      "source": [
        "for i in range(2,10):\n",
        "  for j in range(1,10):\n",
        "    print(f'{i} x {j} = {i*j}', end='\\t')\n",
        "  print()"
      ],
      "metadata": {
        "colab": {
          "base_uri": "https://localhost:8080/"
        },
        "id": "5dFvdO9mni6D",
        "outputId": "002cb8da-ab39-44e7-f268-59967b8f887b"
      },
      "execution_count": 34,
      "outputs": [
        {
          "output_type": "stream",
          "name": "stdout",
          "text": [
            "2 x 1 = 2\t2 x 2 = 4\t2 x 3 = 6\t2 x 4 = 8\t2 x 5 = 10\t2 x 6 = 12\t2 x 7 = 14\t2 x 8 = 16\t2 x 9 = 18\t\n",
            "3 x 1 = 3\t3 x 2 = 6\t3 x 3 = 9\t3 x 4 = 12\t3 x 5 = 15\t3 x 6 = 18\t3 x 7 = 21\t3 x 8 = 24\t3 x 9 = 27\t\n",
            "4 x 1 = 4\t4 x 2 = 8\t4 x 3 = 12\t4 x 4 = 16\t4 x 5 = 20\t4 x 6 = 24\t4 x 7 = 28\t4 x 8 = 32\t4 x 9 = 36\t\n",
            "5 x 1 = 5\t5 x 2 = 10\t5 x 3 = 15\t5 x 4 = 20\t5 x 5 = 25\t5 x 6 = 30\t5 x 7 = 35\t5 x 8 = 40\t5 x 9 = 45\t\n",
            "6 x 1 = 6\t6 x 2 = 12\t6 x 3 = 18\t6 x 4 = 24\t6 x 5 = 30\t6 x 6 = 36\t6 x 7 = 42\t6 x 8 = 48\t6 x 9 = 54\t\n",
            "7 x 1 = 7\t7 x 2 = 14\t7 x 3 = 21\t7 x 4 = 28\t7 x 5 = 35\t7 x 6 = 42\t7 x 7 = 49\t7 x 8 = 56\t7 x 9 = 63\t\n",
            "8 x 1 = 8\t8 x 2 = 16\t8 x 3 = 24\t8 x 4 = 32\t8 x 5 = 40\t8 x 6 = 48\t8 x 7 = 56\t8 x 8 = 64\t8 x 9 = 72\t\n",
            "9 x 1 = 9\t9 x 2 = 18\t9 x 3 = 27\t9 x 4 = 36\t9 x 5 = 45\t9 x 6 = 54\t9 x 7 = 63\t9 x 8 = 72\t9 x 9 = 81\t\n"
          ]
        }
      ]
    },
    {
      "cell_type": "code",
      "source": [
        "li_idel = ['뉴진스', '에스파', '르세라핌', '블랙핑크', '아이브']\n",
        "\n",
        "li_idel.append('bts')\n",
        "li_idel.insert(2,'마마무')\n",
        "li_idel[2:3] = ['여자아이들']\n",
        "li_idel.remove('bts')\n",
        "\n",
        "print(li_idel)"
      ],
      "metadata": {
        "colab": {
          "base_uri": "https://localhost:8080/"
        },
        "id": "iWI2ZxJsoS53",
        "outputId": "05c64aff-503f-4a5a-d3e5-b6813bfe6e5e"
      },
      "execution_count": 41,
      "outputs": [
        {
          "output_type": "stream",
          "name": "stdout",
          "text": [
            "['뉴진스', '에스파', '마마무', '여자아이들', '블랙핑크', '아이브']\n"
          ]
        }
      ]
    },
    {
      "cell_type": "code",
      "source": [
        "import random\n",
        "\n",
        "n = []\n",
        "\n",
        "for i in range(100):\n",
        "  n.append(random.randint(1,1000))\n",
        "\n",
        "print('항목수 : ', len(n))\n",
        "print('합계', sum(n))\n",
        "print('최대값 : ', max(n))\n",
        "print('최소값 : ', min(n))\n",
        "print('평균 : ', sum(n)/len(n))"
      ],
      "metadata": {
        "colab": {
          "base_uri": "https://localhost:8080/",
          "height": 276
        },
        "id": "G_IiNMpKqn5d",
        "outputId": "4236c527-33ef-404f-ad54-fd3116984ec1"
      },
      "execution_count": 59,
      "outputs": [
        {
          "output_type": "stream",
          "name": "stdout",
          "text": [
            "항목수 :  100\n"
          ]
        },
        {
          "output_type": "error",
          "ename": "TypeError",
          "evalue": "ignored",
          "traceback": [
            "\u001b[0;31m---------------------------------------------------------------------------\u001b[0m",
            "\u001b[0;31mTypeError\u001b[0m                                 Traceback (most recent call last)",
            "\u001b[0;32m<ipython-input-59-173da8ac1981>\u001b[0m in \u001b[0;36m<cell line: 9>\u001b[0;34m()\u001b[0m\n\u001b[1;32m      7\u001b[0m \u001b[0;34m\u001b[0m\u001b[0m\n\u001b[1;32m      8\u001b[0m \u001b[0mprint\u001b[0m\u001b[0;34m(\u001b[0m\u001b[0;34m'항목수 : '\u001b[0m\u001b[0;34m,\u001b[0m \u001b[0mlen\u001b[0m\u001b[0;34m(\u001b[0m\u001b[0mn\u001b[0m\u001b[0;34m)\u001b[0m\u001b[0;34m)\u001b[0m\u001b[0;34m\u001b[0m\u001b[0;34m\u001b[0m\u001b[0m\n\u001b[0;32m----> 9\u001b[0;31m \u001b[0mprint\u001b[0m\u001b[0;34m(\u001b[0m\u001b[0;34m'합계'\u001b[0m\u001b[0;34m,\u001b[0m \u001b[0msum\u001b[0m\u001b[0;34m(\u001b[0m\u001b[0mn\u001b[0m\u001b[0;34m)\u001b[0m\u001b[0;34m)\u001b[0m\u001b[0;34m\u001b[0m\u001b[0;34m\u001b[0m\u001b[0m\n\u001b[0m\u001b[1;32m     10\u001b[0m \u001b[0mprint\u001b[0m\u001b[0;34m(\u001b[0m\u001b[0;34m'최대값 : '\u001b[0m\u001b[0;34m,\u001b[0m \u001b[0mmax\u001b[0m\u001b[0;34m(\u001b[0m\u001b[0mn\u001b[0m\u001b[0;34m)\u001b[0m\u001b[0;34m)\u001b[0m\u001b[0;34m\u001b[0m\u001b[0;34m\u001b[0m\u001b[0m\n\u001b[1;32m     11\u001b[0m \u001b[0mprint\u001b[0m\u001b[0;34m(\u001b[0m\u001b[0;34m'최소값 : '\u001b[0m\u001b[0;34m,\u001b[0m \u001b[0mmin\u001b[0m\u001b[0;34m(\u001b[0m\u001b[0mn\u001b[0m\u001b[0;34m)\u001b[0m\u001b[0;34m)\u001b[0m\u001b[0;34m\u001b[0m\u001b[0;34m\u001b[0m\u001b[0m\n",
            "\u001b[0;31mTypeError\u001b[0m: 'int' object is not callable"
          ]
        }
      ]
    }
  ]
}